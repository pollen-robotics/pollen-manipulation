{
 "cells": [
  {
   "cell_type": "code",
   "execution_count": null,
   "id": "2fa9d78e-3f8a-423c-b851-2a491d43e09d",
   "metadata": {},
   "outputs": [],
   "source": [
    "import numpy as np\n",
    "import time\n",
    "\n",
    "from pyquaternion import Quaternion\n",
    "from reachy2_sdk import ReachySDK\n",
    "import FramesViewer.utils as fv_utils"
   ]
  },
  {
   "cell_type": "code",
   "execution_count": null,
   "id": "5f65a8aa-e0e8-4c8f-9406-d6879559d270",
   "metadata": {},
   "outputs": [],
   "source": [
    "real_reachy = ReachySDK(host='192.168.1.42')\n",
    "\n",
    "time.sleep(1.0)\n",
    "\n",
    "real_reachy.l_arm.turn_on()\n",
    "\n",
    "right_start_pose = np.array([\n",
    "    [0.0, 0.0, -1.0, 0.20],\n",
    "    [0.0, 1.0, 0.0, -0.24],\n",
    "    [1.0, 0.0, 0.0, -0.23],\n",
    "    [0.0, 0.0, 0.0, 1.0],\n",
    "])\n",
    "left_start_pose = np.array([\n",
    "    [0.0, 0.0, -1.0, 0.20],\n",
    "    [0.0, 1.0, 0.0, 0.24],\n",
    "    [1.0, 0.0, 0.0, -0.23],\n",
    "    [0.0, 0.0, 0.0, 1.0],\n",
    "])\n",
    "\n",
    "def compute_l2_distance(fk_matrix, goal_pose):\n",
    "    return np.linalg.norm(fk_matrix[:-1, 3] - goal_pose[:-1, 3])"
   ]
  },
  {
   "cell_type": "code",
   "execution_count": null,
   "id": "45af8b0e-68b2-4fd9-8b08-43d9b65a6015",
   "metadata": {},
   "outputs": [],
   "source": [
    "def compute_rotation_distance(fk_matrix, goal_pose):\n",
    "    q1 = Quaternion(matrix=fk_matrix[:3, :3])\n",
    "    Q, R = np.linalg.qr(goal_pose[:3, :3])\n",
    "    q2 = Quaternion(matrix=Q)\n",
    "    return Quaternion.distance(q1, q2)\n",
    "\n",
    "def execute_grasp(grasp_pose, duration: float, left: bool = False) -> bool:\n",
    "    print(\"Executing grasp\")\n",
    "    pregrasp_pose = grasp_pose.copy()\n",
    "    pregrasp_pose = fv_utils.translateInSelf(pregrasp_pose, [0, 0, 0.1])\n",
    "\n",
    "    if np.linalg.norm(grasp_pose[:3, 3]) > 1.0 or grasp_pose[:3, 3][0] < 0.0:  # safety check\n",
    "        raise ValueError(\"Grasp pose is too far away (norm > 1.0)\")\n",
    "\n",
    "    if left:\n",
    "        arm = real_reachy.l_arm\n",
    "    else:\n",
    "        arm = real_reachyr_arm\n",
    "\n",
    "    arm.gripper.open()\n",
    "    goto_id = arm.goto_from_matrix(target=pregrasp_pose, duration=duration)\n",
    "\n",
    "    if goto_id.id == -1:\n",
    "        return False\n",
    "\n",
    "    while not real_reachy.is_move_finished(goto_id):\n",
    "        time.sleep(0.1)\n",
    "\n",
    "    print(\"Going to grasp pose\")\n",
    "    goto_id = arm.goto_from_matrix(target=grasp_pose, duration=duration)\n",
    "\n",
    "    if goto_id.id == -1:\n",
    "        print(\"Goto ID is -1\")\n",
    "        return False\n",
    "\n",
    "    while not real_reachy.is_move_finished(goto_id):\n",
    "        time.sleep(0.1)\n",
    "\n",
    "    print(\"Closing gripper\")\n",
    "    arm.gripper.close()\n",
    "\n",
    "    time.sleep(2.0)\n",
    "    print(f'l2 distance (in meters): {compute_l2_distance(real_reachy.l_arm.forward_kinematics(), grasp_pose)}')\n",
    "    time.sleep(0.5)\n",
    "\n",
    "    lift_pose = grasp_pose.copy()\n",
    "    lift_pose[:3, 3] += np.array([0, 0, 0.20])\n",
    "    goto_id = arm.goto_from_matrix(target=lift_pose, duration=duration)\n",
    "    if goto_id.id == -1:\n",
    "        print(\"Goto ID is -1\")\n",
    "        return False\n",
    "\n",
    "    while not real_reachy.is_move_finished(goto_id):\n",
    "        time.sleep(0.1)\n",
    "\n",
    "    return True"
   ]
  },
  {
   "cell_type": "code",
   "execution_count": null,
   "id": "eaf2a447-a815-4ef3-93ad-dc3f76d79c46",
   "metadata": {},
   "outputs": [],
   "source": [
    "# Place the grasp pose copied from Grasp_poses_visualization_Reachy2 notebook here\n",
    "\n",
    "grasp_pose = np.array([[    0.29753,     0.83017,    -0.47149,      0.2641],\n",
    "       [  -0.082458,     0.51435,     0.85361,    0.085851],\n",
    "       [    0.95115,    -0.21509,     0.22149,    -0.32163],\n",
    "       [          0,           0,           0,           1]])"
   ]
  },
  {
   "cell_type": "code",
   "execution_count": null,
   "id": "324e0053-f736-46e2-8804-a415830d6395",
   "metadata": {},
   "outputs": [],
   "source": [
    "execute_grasp(grasp_pose, 4.0, left=True)"
   ]
  },
  {
   "cell_type": "code",
   "execution_count": null,
   "id": "1b004977-46a8-4266-b32f-224b5d53aacf",
   "metadata": {},
   "outputs": [],
   "source": [
    "real_reachy.l_arm.gripper.open()\n",
    "real_reachy.l_arm.goto_from_matrix(left_start_pose, duration=4.0)"
   ]
  },
  {
   "cell_type": "code",
   "execution_count": null,
   "id": "9dc83efe-625c-4768-938e-91819d094428",
   "metadata": {},
   "outputs": [],
   "source": [
    "real_reachy.turn_off()"
   ]
  }
 ],
 "metadata": {
  "kernelspec": {
   "display_name": "Python 3 (ipykernel)",
   "language": "python",
   "name": "python3"
  },
  "language_info": {
   "codemirror_mode": {
    "name": "ipython",
    "version": 3
   },
   "file_extension": ".py",
   "mimetype": "text/x-python",
   "name": "python",
   "nbconvert_exporter": "python",
   "pygments_lexer": "ipython3",
   "version": "3.10.12"
  }
 },
 "nbformat": 4,
 "nbformat_minor": 5
}
